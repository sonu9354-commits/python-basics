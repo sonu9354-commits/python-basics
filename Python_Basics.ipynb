{
  "nbformat": 4,
  "nbformat_minor": 0,
  "metadata": {
    "colab": {
      "provenance": []
    },
    "kernelspec": {
      "name": "python3",
      "display_name": "Python 3"
    },
    "language_info": {
      "name": "python"
    }
  },
  "cells": [
    {
      "cell_type": "markdown",
      "source": [
        "# Python Basics"
      ],
      "metadata": {
        "id": "rDQszVv7VKKy"
      }
    },
    {
      "cell_type": "markdown",
      "source": [
        "1.What is Python, and why is it popular?\n",
        "  - Python is a popular programming language because it's easy to learn, versatile, and open-source. It's used for many applications, including web development, data science, machine learning, and the Internet of Things\n",
        "\n",
        "  a. Easy to learn\n",
        "\n",
        "  Python's syntax is similar to English, making it easy for beginners to learn.\n",
        "  \n",
        "  b. Open-source\n",
        "\n",
        "  Python is free to download and modify, and there's a large library of publicly available Python code.\n",
        "\n",
        "  c. Efficient\n",
        "\n",
        "  Python's syntax allows developers to write programs with fewer lines of code than some other languages.\n",
        "\n",
        "  d. Cross-platform\n",
        "\n",
        "  Python can run on many different platforms and integrates well with all types of systems.  \n",
        "\n",
        "2.What is an interpreter in Python?\n",
        "  - A Python interpreter is a program that reads and executes Python code line by line. It translates Python code into machine code that the computer can understand.\n",
        "\n",
        "3. What are pre-defined keywords in Python?\n",
        " - A keyword refers to a predefined word that python reserves for working programs that have a specific meaning.\n",
        "\n",
        " - Python also has predefined functions, such as:\n",
        "print(), round(), abs(), pow(), int(), float(), open(), and ord().\n",
        "\n",
        "4.Can keywords be used as variable names?\n",
        " - No, keywords cannot be used as variable names in most programming languages, including Python and C. Keywords are used to define the structure and syntax of a programming language.\n",
        "\n",
        "5.What is mutability in Python?\n",
        " - In Python, mutability refers to whether an object's value can change after it's created. Mutable objects can be changed, while immutable objects cannot.\n",
        "\n",
        "6.Why are lists mutable, but tuples are immutable?\n",
        " - Tuples and lists are the same in every way except two: tuples use parentheses instead of square brackets, and the items in tuples cannot be modified (but the items in lists can be modified). We often call lists mutable (meaning they can be changed) and tuples immutable (meaning they cannot be changed).\n",
        "\n",
        "7.What is the difference between “==” and “is” operators in Python?\n",
        " - In Python, the == operator compares the values of objects, while the is operator compares the identity of objects.\n",
        "\n",
        "8.What are logical operators in Python?\n",
        " - Logical operators in Python are symbols or words that evaluate whether a condition is true or false. They are used to combine conditional statements.\n",
        "\n",
        " - Common logical operators\n",
        "    -  AND: Returns True if both statements are true\n",
        "    -  OR: Returns True if one of the statements is true\n",
        "    -  NOT: Reverses the result, returning False if the result is true\n",
        "\n",
        "9.What is type casting in Python?\n",
        " - Type casting, also known as type conversion, is the process of changing a variable's data type to another data type in Python.\n",
        "\n",
        "10.What is the difference between implicit and explicit type casting?\n",
        " - Implicit type casting happens automatically, while explicit type casting requires the programmer to intervene.\n",
        "     - Implicit type casting\n",
        "\n",
        "       . Also known as widening conversion\n",
        "\n",
        "       . Automatically converts a smaller data type to a larger data type\n",
        "\n",
        "       . Often happens when the compiler or interpreter performs an operation\n",
        "\n",
        "       . Usually happens without the programmer's knowledge\n",
        "\n",
        "     - Explicit type casting\n",
        "\n",
        "       . Also known as narrowing conversion\n",
        "       \n",
        "       . Manually converts a larger data type to a smaller data type\n",
        "\n",
        "       . Requires the programmer to write code that instructs the compiler or\n",
        "         interpreter to make a specific conversion\n",
        "\n",
        "       . Provides more control over the data conversion process\n",
        "\n",
        "11.What is the purpose of conditional statements in Python?\n",
        " - The purpose of conditional statements in Python is to control the flow of a program by running or skipping blocks of code based on conditions.\n",
        "\n",
        "12.How does the elif statement work?\n",
        " - The “elif” keyword in Python, stands for “else if”. It can be used in conditional statements to check for multiple conditions. For example, if the first condition is false, it moves on to the next “elif” statement to check if that condition is true\n",
        "\n",
        "13.What is the difference between for and while loops?\n",
        " - In programming, a for loop is used to repeat a block of code a known number of times, while a while loop repeats it an unknown number of times.\n",
        "\n",
        "14.Describe a scenario where a while loop is more suitable than a for loop?\n",
        " - In contrast to a 'for' loop, which is generally used when the number of iterations is known beforehand, a 'while' loop is ideal for situations where the number of iterations is not predetermined and depends on some dynamic condition.\n",
        "\n"
      ],
      "metadata": {
        "id": "cATpoJFqVX5U"
      }
    },
    {
      "cell_type": "code",
      "source": [
        "# 1. Write a Python program to print \"Hello, World!\n",
        "print(\"Hello World\")"
      ],
      "metadata": {
        "colab": {
          "base_uri": "https://localhost:8080/"
        },
        "id": "WAeDalNcfC9-",
        "outputId": "23bf13d0-5e5f-4ec7-ba4c-0c49cd9c4fdd"
      },
      "execution_count": 1,
      "outputs": [
        {
          "output_type": "stream",
          "name": "stdout",
          "text": [
            "Hello World\n"
          ]
        }
      ]
    },
    {
      "cell_type": "code",
      "source": [
        "# 2. Write a Python program that displays your name and age\n",
        "name = input(\"Enter name: \")\n",
        "age = input(\"Enter age: \")\n",
        "print(\"my name is {}, and I am {} years old\".format(name, age))"
      ],
      "metadata": {
        "colab": {
          "base_uri": "https://localhost:8080/"
        },
        "id": "nIPrj7f9feR4",
        "outputId": "c494d70f-21b0-49f1-9da1-5cb88ba239e8"
      },
      "execution_count": 3,
      "outputs": [
        {
          "output_type": "stream",
          "name": "stdout",
          "text": [
            "Enter name: sheetal kumar\n",
            "Enter age: 24\n",
            "my name is sheetal kumar, and I am 24 years old\n"
          ]
        }
      ]
    },
    {
      "cell_type": "code",
      "source": [
        "# 3. Write code to print all the pre-defined keywords in Python using the keyword library\n",
        "help('keywords')"
      ],
      "metadata": {
        "colab": {
          "base_uri": "https://localhost:8080/"
        },
        "id": "K4e-LXTCgO_k",
        "outputId": "a752c72c-7c2f-4ed9-c178-0439939a9e64"
      },
      "execution_count": 2,
      "outputs": [
        {
          "output_type": "stream",
          "name": "stdout",
          "text": [
            "\n",
            "Here is a list of the Python keywords.  Enter any keyword to get more help.\n",
            "\n",
            "False               class               from                or\n",
            "None                continue            global              pass\n",
            "True                def                 if                  raise\n",
            "and                 del                 import              return\n",
            "as                  elif                in                  try\n",
            "assert              else                is                  while\n",
            "async               except              lambda              with\n",
            "await               finally             nonlocal            yield\n",
            "break               for                 not                 \n",
            "\n"
          ]
        }
      ]
    },
    {
      "cell_type": "code",
      "source": [
        "# 4. Write a program that checks if a given word is a Python keyword.\n",
        "import keyword\n",
        "s = 'for'\n",
        "if keyword.iskeyword(s):\n",
        "    print(f\"'{s}' is a Python keyword.\")\n",
        "else:\n",
        "    print(f\"'{s}' is not a Python keyword.\")"
      ],
      "metadata": {
        "colab": {
          "base_uri": "https://localhost:8080/"
        },
        "id": "ElIoycBZMVoY",
        "outputId": "22ecffde-7fd2-4cc5-a522-82213624e3c6"
      },
      "execution_count": 20,
      "outputs": [
        {
          "output_type": "stream",
          "name": "stdout",
          "text": [
            "'for' is a Python keyword.\n"
          ]
        }
      ]
    },
    {
      "cell_type": "code",
      "source": [
        "# 5. Create a list and tuple in Python, and demonstrate how attempting to change an element works differently for each.\n",
        "# Creating a list\n",
        "my_list = [1, 2, 3, 4, 5]\n",
        "my_list[1] = 20\n",
        "print(my_list)"
      ],
      "metadata": {
        "colab": {
          "base_uri": "https://localhost:8080/"
        },
        "id": "FFvfeKvXa4dy",
        "outputId": "3c6c2e8e-1437-414b-8f86-4a57a35419c5"
      },
      "execution_count": 2,
      "outputs": [
        {
          "output_type": "stream",
          "name": "stdout",
          "text": [
            "[1, 20, 3, 4, 5]\n"
          ]
        }
      ]
    },
    {
      "cell_type": "code",
      "source": [
        "# Creating a tuple\n",
        "my_tuple = (1, 2, 3, 4, 5)\n",
        "my_tuple[1] = 20"
      ],
      "metadata": {
        "colab": {
          "base_uri": "https://localhost:8080/",
          "height": 183
        },
        "id": "yND5sE8LbbEV",
        "outputId": "ccbfb3ac-18b0-4be6-e493-0c623fda973a"
      },
      "execution_count": 4,
      "outputs": [
        {
          "output_type": "error",
          "ename": "TypeError",
          "evalue": "'tuple' object does not support item assignment",
          "traceback": [
            "\u001b[0;31m---------------------------------------------------------------------------\u001b[0m",
            "\u001b[0;31mTypeError\u001b[0m                                 Traceback (most recent call last)",
            "\u001b[0;32m<ipython-input-4-5860ec5490c7>\u001b[0m in \u001b[0;36m<cell line: 0>\u001b[0;34m()\u001b[0m\n\u001b[1;32m      2\u001b[0m \u001b[0mmy_tuple\u001b[0m \u001b[0;34m=\u001b[0m \u001b[0;34m(\u001b[0m\u001b[0;36m1\u001b[0m\u001b[0;34m,\u001b[0m \u001b[0;36m2\u001b[0m\u001b[0;34m,\u001b[0m \u001b[0;36m3\u001b[0m\u001b[0;34m,\u001b[0m \u001b[0;36m4\u001b[0m\u001b[0;34m,\u001b[0m \u001b[0;36m5\u001b[0m\u001b[0;34m)\u001b[0m\u001b[0;34m\u001b[0m\u001b[0;34m\u001b[0m\u001b[0m\n\u001b[1;32m      3\u001b[0m \u001b[0;31m# Trying to change the second element in the tuple try:\u001b[0m\u001b[0;34m\u001b[0m\u001b[0;34m\u001b[0m\u001b[0m\n\u001b[0;32m----> 4\u001b[0;31m \u001b[0mmy_tuple\u001b[0m\u001b[0;34m[\u001b[0m\u001b[0;36m1\u001b[0m\u001b[0;34m]\u001b[0m \u001b[0;34m=\u001b[0m \u001b[0;36m20\u001b[0m\u001b[0;34m\u001b[0m\u001b[0;34m\u001b[0m\u001b[0m\n\u001b[0m",
            "\u001b[0;31mTypeError\u001b[0m: 'tuple' object does not support item assignment"
          ]
        }
      ]
    },
    {
      "cell_type": "code",
      "source": [
        "# 6. Write a function to demonstrate the behavior of mutable and immutable arguments.\n",
        "def modify_list(my_list):\n",
        "    my_list[0] = 'modified'\n",
        "    print(\"Inside modify_list:\", my_list)"
      ],
      "metadata": {
        "id": "ns46VQtqLWj1"
      },
      "execution_count": 15,
      "outputs": []
    },
    {
      "cell_type": "code",
      "source": [
        "# 7. Write a program that performs basic arithmetic operations on two user-input numbers.\n",
        "num1 = int(input(\"Enter first number: \")) # user input\n",
        "num2 = int(input(\"Enter second number: \")) # user input\n",
        "\n",
        "#Printing the result for all arithmetic operations\n",
        "print(\"Addition: \",num1 + num2) # Addition\n",
        "print(\"Subtraction: \",num1 - num2) # Subtraction\n",
        "print(\"Multiplication: \",num1 * num2) # Multiplication\n",
        "print(\"Division: \",num1 / num2) # simple Division\n",
        "print(\"Floor Division: \",num1 // num2) # floor/ integer Division\n",
        "print(\"Modulus: \", num1 % num2) # Modulus\n",
        "print(\"Exponentiation: \",num1 ** num2) # Exponentiation"
      ],
      "metadata": {
        "colab": {
          "base_uri": "https://localhost:8080/"
        },
        "id": "TxLciYBXRByR",
        "outputId": "3d7cccfd-3c7c-46e2-a4c6-f0cb0b044a0c"
      },
      "execution_count": 24,
      "outputs": [
        {
          "output_type": "stream",
          "name": "stdout",
          "text": [
            "Enter first number: 4\n",
            "Enter second number: 16\n",
            "Addition:  20\n",
            "Subtraction:  -12\n",
            "Multiplication:  64\n",
            "Division:  0.25\n",
            "Floor Division:  0\n",
            "Modulus:  4\n",
            "Exponentiation:  4294967296\n"
          ]
        }
      ]
    },
    {
      "cell_type": "code",
      "source": [
        "# 8. Write a program to demonstrate the use of logical operators\n",
        "# Define some variables\n",
        "a = True\n",
        "b = False\n",
        "\n",
        "# Logical AND\n",
        "and_result = a and b\n",
        "print(f\"{a} and {b} is {and_result}\")\n",
        "\n",
        "# Logical OR\n",
        "or_result = a or b\n",
        "print(f\"{a} or {b} is {or_result}\")\n",
        "\n",
        "# Logical NOT\n",
        "not_result_a = not a\n",
        "not_result_b = not b\n",
        "print(f\"not {a} is {not_result_a}\")\n",
        "print(f\"not {b} is {not_result_b}\")"
      ],
      "metadata": {
        "colab": {
          "base_uri": "https://localhost:8080/"
        },
        "id": "kl0ZxuFtDtyA",
        "outputId": "1f5f0c02-6c97-4fdf-a300-3cc93bc393a8"
      },
      "execution_count": 2,
      "outputs": [
        {
          "output_type": "stream",
          "name": "stdout",
          "text": [
            "True and False is False\n",
            "True or False is True\n",
            "not True is False\n",
            "not False is True\n"
          ]
        }
      ]
    },
    {
      "cell_type": "code",
      "source": [
        "# 9. Write a Python program to convert user input from string to integer, float, and boolean types.\n",
        "# Original list with mixed types\n",
        "my_list = ['1', '2', '3', '4', '5']\n",
        "\n",
        "# Convert each element from string to integer\n",
        "int_list = [int(element) for element in my_list]\n",
        "\n",
        "# Convert each element from integer to float\n",
        "float_list = [float(element) for element in int_list]\n",
        "\n",
        "# Convert each element from float to string\n",
        "str_list = [str(element) for element in float_list]\n",
        "\n",
        "# Print the results\n",
        "print(\"Original list:\", my_list)\n",
        "print(\"List after casting to integers:\", int_list)\n",
        "print(\"List after casting to floats:\", float_list)\n",
        "print(\"List after casting back to strings:\", str_list)"
      ],
      "metadata": {
        "colab": {
          "base_uri": "https://localhost:8080/"
        },
        "id": "eTxeST03cUs6",
        "outputId": "496c2573-adaa-4784-cd38-bfe99ddb282c"
      },
      "execution_count": 1,
      "outputs": [
        {
          "output_type": "stream",
          "name": "stdout",
          "text": [
            "Original list: ['1', '2', '3', '4', '5']\n",
            "List after casting to integers: [1, 2, 3, 4, 5]\n",
            "List after casting to floats: [1.0, 2.0, 3.0, 4.0, 5.0]\n",
            "List after casting back to strings: ['1.0', '2.0', '3.0', '4.0', '5.0']\n"
          ]
        }
      ]
    },
    {
      "cell_type": "code",
      "source": [
        "# 10. Write code to demonstrate type casting with list elements.\n",
        "my_list = ['1', '2', '3', '4', '5']\n",
        "\n",
        "int_list = [int(element) for element in my_list]\n",
        "\n",
        "float_list = [float(element) for element in int_list]\n",
        "\n",
        "str_list = [str(element) for element in float_list]\n",
        "\n",
        "print(\"Original list:\", my_list)\n",
        "print(\"List after casting to integers:\", int_list)\n",
        "print(\"List after casting to floats:\", float_list)\n",
        "print(\"List after casting back to strings:\", str_list)"
      ],
      "metadata": {
        "colab": {
          "base_uri": "https://localhost:8080/"
        },
        "id": "NwXhGFKDMitP",
        "outputId": "8184a9d7-8bf6-484a-da2c-b2e5182361f8"
      },
      "execution_count": 22,
      "outputs": [
        {
          "output_type": "stream",
          "name": "stdout",
          "text": [
            "Original list: ['1', '2', '3', '4', '5']\n",
            "List after casting to integers: [1, 2, 3, 4, 5]\n",
            "List after casting to floats: [1.0, 2.0, 3.0, 4.0, 5.0]\n",
            "List after casting back to strings: ['1.0', '2.0', '3.0', '4.0', '5.0']\n"
          ]
        }
      ]
    },
    {
      "cell_type": "code",
      "source": [
        "# 11. Write a program that checks if a number is positive, negative, or zero.\n",
        "num = int(input(\"Enter a number: \"))\n",
        "\n",
        "if num > 0:\n",
        "    print(\"The number is positive.\")\n",
        "elif num < 0:\n",
        "    print(\"The number is negative.\")\n",
        "else:\n",
        "    print(\"The number is 0.\")"
      ],
      "metadata": {
        "colab": {
          "base_uri": "https://localhost:8080/"
        },
        "id": "f1O4IH05OJzK",
        "outputId": "5fe5b792-a94d-4b2b-8892-d9fef23af9e5"
      },
      "execution_count": 23,
      "outputs": [
        {
          "output_type": "stream",
          "name": "stdout",
          "text": [
            "Enter a number: 10\n",
            "The number is positive.\n"
          ]
        }
      ]
    },
    {
      "cell_type": "code",
      "source": [
        "# 12. Write a for loop to print numbers from 1 to 10.\n",
        "for i in range(1, 11):\n",
        "    print(i)"
      ],
      "metadata": {
        "colab": {
          "base_uri": "https://localhost:8080/"
        },
        "id": "Zb-HRCH2ESC2",
        "outputId": "e123afcb-5e2a-4e05-b0ab-473df018b544"
      },
      "execution_count": 6,
      "outputs": [
        {
          "output_type": "stream",
          "name": "stdout",
          "text": [
            "1\n",
            "2\n",
            "3\n",
            "4\n",
            "5\n",
            "6\n",
            "7\n",
            "8\n",
            "9\n",
            "10\n"
          ]
        }
      ]
    },
    {
      "cell_type": "code",
      "source": [
        "# 13. Write a Python program to find the sum of all even numbers between 1 and 50.\n",
        "num = int(input('Enter a number: '))\n",
        "sum = 0\n",
        "i = 0\n",
        "while i <= num:\n",
        "    if i % 2 == 0:\n",
        "        print(i)\n",
        "        sum+=i\n",
        "    i+=1\n",
        "print(f\"Sum of all the even numbers is {sum}\")"
      ],
      "metadata": {
        "colab": {
          "base_uri": "https://localhost:8080/"
        },
        "id": "Jli_ddo7G4wx",
        "outputId": "bc7c3c42-9a86-4fea-82ed-3727e4d467d9"
      },
      "execution_count": 7,
      "outputs": [
        {
          "output_type": "stream",
          "name": "stdout",
          "text": [
            "Enter a number: 50\n",
            "0\n",
            "2\n",
            "4\n",
            "6\n",
            "8\n",
            "10\n",
            "12\n",
            "14\n",
            "16\n",
            "18\n",
            "20\n",
            "22\n",
            "24\n",
            "26\n",
            "28\n",
            "30\n",
            "32\n",
            "34\n",
            "36\n",
            "38\n",
            "40\n",
            "42\n",
            "44\n",
            "46\n",
            "48\n",
            "50\n",
            "Sum of all the even numbers is 650\n"
          ]
        }
      ]
    },
    {
      "cell_type": "code",
      "source": [
        "# 14 . Write a program to reverse a string using a while loop.\n",
        "name= str((input(\"Enter the name: \")))\n",
        "i = len(name) - 1\n",
        "\n",
        "while i >= 0:\n",
        "    print(name[i], end = '')\n",
        "    i=i-1"
      ],
      "metadata": {
        "colab": {
          "base_uri": "https://localhost:8080/"
        },
        "id": "LWCkpI8pIYo9",
        "outputId": "3b4a76ae-6655-4f6a-fd5d-26f2b8bb66ce"
      },
      "execution_count": 11,
      "outputs": [
        {
          "output_type": "stream",
          "name": "stdout",
          "text": [
            "Enter the name: SHEETAL\n",
            "LATEEHS"
          ]
        }
      ]
    },
    {
      "cell_type": "code",
      "source": [
        "# 15. Write a Python program to calculate the factorial of a number provided by the user using a while loop\n",
        "def factorial(n):\n",
        "    num = 1\n",
        "    while n >= 1:\n",
        "        num = num * n\n",
        "        n = n - 1\n",
        "    return num\n",
        "\n",
        "f = factorial(5)\n",
        "print(f)"
      ],
      "metadata": {
        "colab": {
          "base_uri": "https://localhost:8080/"
        },
        "id": "zEi8taVpJ3cc",
        "outputId": "60f772e5-3fa8-4162-8221-14cc5598521d"
      },
      "execution_count": 12,
      "outputs": [
        {
          "output_type": "stream",
          "name": "stdout",
          "text": [
            "120\n"
          ]
        }
      ]
    },
    {
      "cell_type": "code",
      "source": [
        "def modify_tuple(my_tuple):\n",
        "\n",
        "    try:\n",
        "        my_tuple[0] = 'modified'\n",
        "    except TypeError as e:\n",
        "        print(\"Inside modify_tuple:\", e)"
      ],
      "metadata": {
        "id": "iqzkJrPmLt_Q"
      },
      "execution_count": 16,
      "outputs": []
    },
    {
      "cell_type": "code",
      "source": [
        "original_list = [1, 2, 3]\n",
        "original_tuple = (1, 2, 3)\n",
        "print(\"Original list:\", original_list)\n",
        "print(\"Original tuple:\", original_tuple)"
      ],
      "metadata": {
        "colab": {
          "base_uri": "https://localhost:8080/"
        },
        "id": "sQa4MERNL4Ug",
        "outputId": "32197cc8-7c95-435d-f0e4-fadea7a1a466"
      },
      "execution_count": 17,
      "outputs": [
        {
          "output_type": "stream",
          "name": "stdout",
          "text": [
            "Original list: [1, 2, 3]\n",
            "Original tuple: (1, 2, 3)\n"
          ]
        }
      ]
    },
    {
      "cell_type": "code",
      "source": [
        "modify_list(original_list)\n",
        "modify_tuple(original_tuple)\n",
        "print(\"List after modify_list:\", original_list)\n",
        "print(\"Tuple after modify_tuple:\", original_tuple)"
      ],
      "metadata": {
        "colab": {
          "base_uri": "https://localhost:8080/"
        },
        "id": "n7s3gGcdMC1J",
        "outputId": "ac7463e7-969c-4d7f-c244-ba0bb9c1e4e8"
      },
      "execution_count": 18,
      "outputs": [
        {
          "output_type": "stream",
          "name": "stdout",
          "text": [
            "Inside modify_list: ['modified', 2, 3]\n",
            "Inside modify_tuple: 'tuple' object does not support item assignment\n",
            "List after modify_list: ['modified', 2, 3]\n",
            "Tuple after modify_tuple: (1, 2, 3)\n"
          ]
        }
      ]
    }
  ]
}